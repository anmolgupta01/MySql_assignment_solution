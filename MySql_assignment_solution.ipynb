{
 "cells": [
  {
   "cell_type": "markdown",
   "id": "8fae27fc",
   "metadata": {},
   "source": [
    "Q1. What is a database? Differentiate between SQL and NoSQL databases."
   ]
  },
  {
   "cell_type": "markdown",
   "id": "55a59f4d",
   "metadata": {},
   "source": [
    "A database is a structured collection of data that is organized, stored, and managed in a way that facilitates efficient retrieval, updating, and manipulation of data. Databases are used to store and manage vast amounts of information for various purposes, including business operations, research, analysis, and more. They provide mechanisms for data integrity, security, and concurrent access.\n",
    "\n",
    "# SQL (Structured Query Language) Databases:\n",
    "SQL databases are relational databases that use the Structured Query Language (SQL) to define, manipulate, and query the data. These databases use a tabular structure where data is stored in tables with predefined schemas. Each table consists of rows and columns, and relationships between tables are established using keys (usually primary and foreign keys).\n",
    "\n",
    "Key features of SQL databases:\n",
    "\n",
    "Schema: Fixed schema with predefined structure.\n",
    "Data Integrity: Strong data integrity and validation through constraints.\n",
    "Transactions: ACID (Atomicity, Consistency, Isolation, Durability) compliant transactions.\n",
    "Examples: MySQL, PostgreSQL, Oracle Database, Microsoft SQL Server.\n",
    "\n",
    "# NoSQL (Not Only SQL) Databases:\n",
    "NoSQL databases encompass a diverse range of database systems that depart from the traditional relational model. They are designed to handle unstructured or semi-structured data and offer more flexible and scalable data storage solutions. NoSQL databases are often used for modern web applications, big data, and real-time data processing.\n",
    "\n",
    "Key features of NoSQL databases:\n",
    "\n",
    "Schema Flexibility: Dynamic schema or schema-less design.\n",
    "Scalability: Designed for horizontal scalability and distributed computing.\n",
    "Data Variety: Suitable for diverse data types (key-value, document, column-family, graph).\n",
    "Examples: MongoDB (document), Cassandra (column-family), Redis (key-value), Neo4j (graph).\n",
    "\n",
    "# Differences:\n",
    "\n",
    "Data Model: SQL databases use a tabular, structured model with predefined schemas. NoSQL databases offer various models, such as key-value, document, column-family, and graph, allowing greater flexibility in handling different data types.\n",
    "\n",
    "Schema: SQL databases have a fixed schema that enforces data integrity through predefined data types and constraints. NoSQL databases often have a dynamic or schema-less design, allowing for easier adaptation to changing data requirements.\n",
    "\n",
    "Query Language: SQL databases use the SQL language for querying and manipulating data. NoSQL databases may use different query languages or APIs depending on the specific type.\n",
    "\n",
    "Scalability: NoSQL databases are designed for horizontal scalability, making them well-suited for distributed and large-scale systems. SQL databases can also scale but often require more effort for horizontal scaling.\n",
    "\n",
    "Use Cases: SQL databases are often used for structured data with well-defined relationships, such as financial records or enterprise applications. NoSQL databases are preferred for unstructured or semi-structured data, real-time data, and applications requiring high scalability.\n",
    "\n",
    "Transactions: SQL databases provide strong ACID-compliant transactions, while NoSQL databases offer varying levels of transaction support, depending on the type."
   ]
  },
  {
   "cell_type": "markdown",
   "id": "105d6775",
   "metadata": {},
   "source": [
    "Q2. What is DDL? Explain why CREATE, DROP, ALTER, and TRUNCATE are used with an example."
   ]
  },
  {
   "cell_type": "markdown",
   "id": "707d7bfa",
   "metadata": {},
   "source": [
    "DDL (Data Definition Language):\n",
    "DDL stands for Data Definition Language. It is a subset of SQL (Structured Query Language) that is used to define, manage, and modify the structure of a database. DDL statements are used to create, modify, or delete database objects like tables, indexes, views, and schemas. DDL does not deal with the actual data manipulation but focuses on defining and managing the database structure."
   ]
  },
  {
   "cell_type": "markdown",
   "id": "2c76396a",
   "metadata": {},
   "source": [
    "CREATE:\n",
    "The CREATE statement is used to create new database objects, such as tables, indexes, and views."
   ]
  },
  {
   "cell_type": "code",
   "execution_count": 27,
   "id": "a96dfe42",
   "metadata": {},
   "outputs": [],
   "source": [
    "import mysql.connector\n",
    "#please enter your username and password\n",
    "mydb = mysql.connector.connect(\n",
    "  host=\"localhost\",\n",
    "  user=\"yourusername\",\n",
    "  password=\"yourpassword\",\n",
    "  database=\"galgotias_university\"  # Replace with the actual name of your database\n",
    ")\n",
    "mycursor = mydb.cursor()\n",
    "mycursor.execute(\"CREATE DATABASE if not exists GALGOTIAS_UNIVERSITY\")\n",
    "mydb.close()"
   ]
  },
  {
   "cell_type": "code",
   "execution_count": 22,
   "id": "fe5d80ea",
   "metadata": {},
   "outputs": [],
   "source": [
    "import mysql.connector\n",
    "\n",
    "# Connect to the MySQL database\n",
    "#please enter your username and password\n",
    "mydb = mysql.connector.connect(\n",
    "  host=\"localhost\",\n",
    "  user=\"yourusername\",\n",
    "  password=\"yourpassword\",\n",
    "  database=\"galgotias_university\"  # Replace with the actual name of your database\n",
    ")\n",
    "\n",
    "# Create a cursor\n",
    "mycursor = mydb.cursor()\n",
    "\n",
    "# Define the SQL query to create the table\n",
    "create_table_query = \"\"\"\n",
    "CREATE TABLE IF NOT EXISTS student (\n",
    "    namee CHAR(255),\n",
    "    admission_number VARCHAR(255),\n",
    "    enrollment_number BIGINT\n",
    ")\n",
    "\"\"\"\n",
    "\n",
    "# Execute the table creation query\n",
    "mycursor.execute(create_table_query)\n",
    "\n",
    "# Commit the changes\n",
    "mydb.commit()\n",
    "\n",
    "# Close the cursor and the connection\n",
    "mycursor.close()\n",
    "mydb.close()\n"
   ]
  },
  {
   "cell_type": "markdown",
   "id": "aa4d696c",
   "metadata": {},
   "source": [
    "ALTER:\n",
    "The ALTER statement is used to modify the structure of an existing database object, such as adding, modifying, or dropping columns from a table."
   ]
  },
  {
   "cell_type": "code",
   "execution_count": 23,
   "id": "8ea4ce74",
   "metadata": {},
   "outputs": [],
   "source": [
    "import mysql.connector\n",
    "\n",
    "# Connect to the MySQL database and select a specific database\n",
    "#please enter your username and password\n",
    "mydb = mysql.connector.connect(\n",
    "  host=\"localhost\",\n",
    "  user=\"yourusername\",\n",
    "  password=\"yourpassword\",\n",
    "  database=\"galgotias_university\"  # Replace with the actual name of your database\n",
    ")\n",
    "\n",
    "# Create a cursor\n",
    "mycursor = mydb.cursor()\n",
    "\n",
    "# Alter the \"student\" table to add a new column\n",
    "alter_query = \"ALTER TABLE student ADD COLUMN email VARCHAR(100)\"\n",
    "mycursor.execute(alter_query)\n",
    "\n",
    "# Commit the changes\n",
    "mydb.commit()\n",
    "\n",
    "# Close the cursor and the connection\n",
    "mycursor.close()\n",
    "mydb.close()\n"
   ]
  },
  {
   "cell_type": "markdown",
   "id": "98398c05",
   "metadata": {},
   "source": [
    "TRUNCATE:\n",
    "The TRUNCATE statement is used to delete all rows from a table while keeping the table structure intact. It is faster and uses fewer resources than the DELETE statement, but it does not generate individual row deletion events and does not activate triggers."
   ]
  },
  {
   "cell_type": "code",
   "execution_count": 24,
   "id": "053f6a49",
   "metadata": {},
   "outputs": [],
   "source": [
    "import mysql.connector\n",
    "\n",
    "# Connect to the MySQL database and select a specific database\n",
    "#please enter your username and password\n",
    "mydb = mysql.connector.connect(\n",
    "  host=\"localhost\",\n",
    "  user=\"yourusername\",\n",
    "  password=\"yourpassword\",\n",
    "  database=\"galgotias_university\"  # Replace with the actual name of your database\n",
    ")\n",
    "\n",
    "# Create a cursor\n",
    "mycursor = mydb.cursor()\n",
    "\n",
    "# Truncate the \"student\" table to remove all data\n",
    "truncate_query = \"TRUNCATE TABLE student\"\n",
    "mycursor.execute(truncate_query)\n",
    "\n",
    "# Commit the changes\n",
    "mydb.commit()\n",
    "\n",
    "# Close the cursor and the connection\n",
    "mycursor.close()\n",
    "mydb.close()\n"
   ]
  },
  {
   "cell_type": "markdown",
   "id": "1cb53e2b",
   "metadata": {},
   "source": [
    "DROP: The DROP statement is used to delete existing database objects, such as tables, indexes, and views. Be careful when using DROP as it permanently removes the specified object and its data"
   ]
  },
  {
   "cell_type": "code",
   "execution_count": null,
   "id": "93fc2884",
   "metadata": {},
   "outputs": [],
   "source": [
    "import mysql.connector\n",
    "\n",
    "# Connect to the MySQL database and select a specific database\n",
    "#please enter your username and password\n",
    "mydb = mysql.connector.connect(\n",
    "  host=\"localhost\",\n",
    "  user=\"yourusername\",\n",
    "  password=\"yourpassword\",\n",
    "  database=\"galgotias_university\"  # Replace with the actual name of your database\n",
    ")\n",
    "\n",
    "# Create a cursor\n",
    "mycursor = mydb.cursor()\n",
    "\n",
    "# Drop the \"student\" table\n",
    "mycursor.execute(\"DROP TABLE student\")\n",
    "\n",
    "# Commit the changes\n",
    "mydb.commit()\n",
    "\n",
    "# Close the cursor and the connection\n",
    "mycursor.close()\n",
    "mydb.close()\n"
   ]
  },
  {
   "cell_type": "markdown",
   "id": "9d7c595d",
   "metadata": {},
   "source": [
    "Q3. What is DML? Explain INSERT, UPDATE, and DELETE with an example."
   ]
  },
  {
   "cell_type": "markdown",
   "id": "de4a6858",
   "metadata": {},
   "source": [
    "DML (Data Manipulation Language):\n",
    "DML stands for Data Manipulation Language. It is a subset of SQL (Structured Query Language) that deals with the manipulation and retrieval of data within a database. DML statements are used to insert, update, and delete data stored in database tables."
   ]
  },
  {
   "cell_type": "markdown",
   "id": "64cf0f8b",
   "metadata": {},
   "source": [
    "INSERT:\n",
    "The INSERT statement is used to add new rows of data into a table. It allows you to specify the table's name, the columns you're inserting data into, and the values you want to insert. Here's an example:"
   ]
  },
  {
   "cell_type": "code",
   "execution_count": null,
   "id": "8d64a976",
   "metadata": {},
   "outputs": [],
   "source": [
    "import mysql.connector\n",
    "\n",
    "# Connect to the MySQL database and select a specific database\n",
    "# Replace \"yourusername\" and \"yourpassword\" with your actual credentials\n",
    "mydb = mysql.connector.connect(\n",
    "  host=\"localhost\",\n",
    "  user=\"yourusername\",\n",
    "  password=\"yourpassword\",\n",
    "  database=\"galgotias_university\"  # Replace with the actual name of your database\n",
    ")\n",
    "\n",
    "# Create a cursor\n",
    "mycursor = mydb.cursor()\n",
    "\n",
    "# Insert a new student record\n",
    "insert_query = \"\"\"\n",
    "INSERT INTO student (FirstName, LastName)\n",
    "VALUES ('John', 'Doe')\n",
    "\"\"\"\n",
    "\n",
    "mycursor.execute(insert_query)\n",
    "\n",
    "# Commit the changes\n",
    "mydb.commit()\n",
    "\n",
    "# Close the cursor and the connection\n",
    "mycursor.close()\n",
    "mydb.close()\n"
   ]
  },
  {
   "cell_type": "markdown",
   "id": "c8e7ec3e",
   "metadata": {},
   "source": [
    "UPDATE:\n",
    "The UPDATE statement is used to modify existing data within a table. It allows you to specify the table's name, the columns you're updating, the new values, and a condition that determines which rows to update."
   ]
  },
  {
   "cell_type": "code",
   "execution_count": null,
   "id": "091594fc",
   "metadata": {},
   "outputs": [],
   "source": [
    "import mysql.connector\n",
    "\n",
    "# Connect to the MySQL database and select a specific database\n",
    "# Replace \"yourusername\" and \"yourpassword\" with your actual credentials\n",
    "mydb = mysql.connector.connect(\n",
    "  host=\"localhost\",\n",
    "  user=\"yourusername\",\n",
    "  password=\"yourpassword\",\n",
    "  database=\"galgotias_university\"  # Replace with the actual name of your database\n",
    ")\n",
    "\n",
    "# Create a cursor\n",
    "mycursor = mydb.cursor()\n",
    "\n",
    "# Update an existing student record\n",
    "update_query = \"\"\"\n",
    "UPDATE student\n",
    "SET LastName = 'Smith'\n",
    "WHERE StudentID = 1\n",
    "\"\"\"\n",
    "\n",
    "mycursor.execute(update_query)\n",
    "\n",
    "# Commit the changes\n",
    "mydb.commit()\n",
    "\n",
    "# Close the cursor and the connection\n",
    "mycursor.close()\n",
    "mydb.close()\n",
    "\n"
   ]
  },
  {
   "cell_type": "markdown",
   "id": "98c9c21c",
   "metadata": {},
   "source": [
    "DELETE:\n",
    "The DELETE statement is used to remove rows of data from a table. It allows you to specify the table's name and a condition that determines which rows to delete. "
   ]
  },
  {
   "cell_type": "code",
   "execution_count": null,
   "id": "2a5354c9",
   "metadata": {},
   "outputs": [],
   "source": [
    "import mysql.connector\n",
    "\n",
    "# Connect to the MySQL database and select a specific database\n",
    "# Replace \"yourusername\" and \"yourpassword\" with your actual credentials\n",
    "mydb = mysql.connector.connect(\n",
    "  host=\"localhost\",\n",
    "  user=\"yourusername\",\n",
    "  password=\"yourpassword\",\n",
    "  database=\"galgotias_university\"  # Replace with the actual name of your database\n",
    ")\n",
    "\n",
    "# Create a cursor\n",
    "mycursor = mydb.cursor()\n",
    "\n",
    "# Delete a student record\n",
    "delete_query = \"\"\"\n",
    "DELETE FROM student\n",
    "WHERE StudentID = 1\n",
    "\"\"\"\n",
    "\n",
    "mycursor.execute(delete_query)\n",
    "\n",
    "# Commit the changes\n",
    "mydb.commit()\n",
    "\n",
    "# Close the cursor and the connection\n",
    "mycursor.close()\n",
    "mydb.close()\n"
   ]
  },
  {
   "cell_type": "markdown",
   "id": "bd5913a5",
   "metadata": {},
   "source": [
    "Q4. What is DQL? Explain SELECT with an example."
   ]
  },
  {
   "cell_type": "markdown",
   "id": "f55acb1b",
   "metadata": {},
   "source": [
    "DQL stands for Data Query Language. It is a subset of SQL (Structured Query Language) that is focused on retrieving data from a database. DQL includes the SELECT statement, which is used to retrieve specific columns or all columns from one or more tables in a database. \n",
    "\n",
    "The SELECT statement allows you to filter, sort, and manipulate data to obtain the desired results."
   ]
  },
  {
   "cell_type": "code",
   "execution_count": null,
   "id": "3aeb33b2",
   "metadata": {},
   "outputs": [],
   "source": [
    "import mysql.connector\n",
    "\n",
    "# Connect to the MySQL database and select a specific database\n",
    "# Replace \"yourusername\" and \"yourpassword\" with your actual credentials\n",
    "mydb = mysql.connector.connect(\n",
    "  host=\"localhost\",\n",
    "  user=\"yourusername\",\n",
    "  password=\"yourpassword\",\n",
    "  database=\"galgotias_university\"  # Replace with the actual name of your database\n",
    ")\n",
    "\n",
    "# Create a cursor\n",
    "mycursor = mydb.cursor()\n",
    "\n",
    "# Select student records\n",
    "select_query = \"\"\"\n",
    "SELECT StudentID, FirstName, LastName\n",
    "FROM student\n",
    "\"\"\"\n",
    "\n",
    "mycursor.execute(select_query)\n",
    "\n",
    "# Fetch all the rows\n",
    "results = mycursor.fetchall()\n",
    "\n",
    "# Display the results\n",
    "for row in results:\n",
    "    print(\"StudentID:\", row[0])\n",
    "    print(\"FirstName:\", row[1])\n",
    "    print(\"LastName:\", row[2])\n",
    "    print(\"\")\n",
    "\n",
    "# Close the cursor and the connection\n",
    "mycursor.close()\n",
    "mydb.close()\n"
   ]
  },
  {
   "cell_type": "markdown",
   "id": "5f093932",
   "metadata": {},
   "source": [
    "Q5. Explain Primary Key and Foreign Key\n"
   ]
  },
  {
   "cell_type": "markdown",
   "id": "cec3b390",
   "metadata": {},
   "source": [
    "Primary Key:\n",
    "A primary key is a unique identifier for a record in a database table. It uniquely identifies each row within the table and ensures that there are no duplicate entries. The primary key enforces data integrity and provides a way to uniquely identify records. In most cases, a primary key is used to link data between tables and establish relationships.\n",
    "\n",
    "Key characteristics of a primary key:\n",
    "\n",
    "Must contain unique values, meaning no two rows can have the same primary key value.\n",
    "Cannot contain NULL values, as it needs to uniquely identify each record.\n",
    "Automatically enforces data integrity and maintains the uniqueness of records.\n",
    "Example:\n",
    "Consider a \"Students\" table with columns \"StudentID,\" \"FirstName,\" and \"LastName.\" Here, \"StudentID\" could be set as the primary key since it uniquely identifies each student in the table.\n",
    "\n",
    "Foreign Key:\n",
    "A foreign key is a field in a database table that is used to establish a link between two tables. It creates a relationship between the tables by referencing the primary key of another table. Foreign keys are used to maintain data integrity and enforce referential integrity between related tables.\n",
    "\n",
    "Key characteristics of a foreign key:\n",
    "\n",
    "Represents a relationship between two tables.\n",
    "References the primary key of another table, creating a link between them.\n",
    "Helps ensure that data in the related tables remains consistent.\n",
    "Example:\n",
    "Continuing with the \"Students\" example, imagine a \"Courses\" table with columns \"CourseID,\" \"CourseName,\" and \"Instructor.\" To establish a relationship between the \"Students\" and \"Courses\" tables, you could add a foreign key \"StudentID\" in the \"Courses\" table. This foreign key would reference the primary key \"StudentID\" in the \"Students\" table, linking each course to the student who is taking it."
   ]
  },
  {
   "cell_type": "markdown",
   "id": "25fa5217",
   "metadata": {},
   "source": [
    "Q6. Write a python code to connect MySQL to python. Explain the cursor() and execute() method."
   ]
  },
  {
   "cell_type": "code",
   "execution_count": null,
   "id": "c30a4c9b",
   "metadata": {},
   "outputs": [],
   "source": [
    "#python code to connect MySQL to python\n",
    "import mysql.connector\n",
    "# import mysql.connector\n",
    "#please enter your own username and password\n",
    "mydb = mysql.connector.connect(\n",
    "  host=\"localhost\",\n",
    "  user=\"root\",\n",
    "  password=\"your password\"\n",
    ")\n",
    "print(mydb)\n",
    "mycursor = mydb.cursor()\n",
    "mycursor.execute(\"SHOW DATABASES\")\n",
    "for x in mycursor:\n",
    "  print(x)"
   ]
  },
  {
   "cell_type": "markdown",
   "id": "4c7b306c",
   "metadata": {},
   "source": [
    "# cursor():\n",
    "The cursor() method is used to create a cursor object, which allows you to interact with a database by executing SQL queries and fetching results. A cursor acts as a pointer or a control structure that enables you to traverse through the result set of a query and perform various database operations.\n",
    "\n",
    "Creating a cursor is the first step before you can start executing SQL commands on a database. Once you have a cursor, you can use it to execute queries, fetch data, and manage transactions.\n",
    "\n",
    "# execute():\n",
    "The execute() method is used to execute an SQL query or command through the cursor. It allows you to send SQL statements to the database for execution. The execute() method is commonly used to perform actions like inserting, updating, deleting, and querying data from the database.\n",
    "\n",
    "After executing a query using execute(), you can also fetch the results using methods like fetchone(), fetchall(), etc., depending on the nature of your query."
   ]
  },
  {
   "cell_type": "markdown",
   "id": "7b29a4ca",
   "metadata": {},
   "source": [
    "Q7. Give the order of execution of SQL clauses in an SQL query."
   ]
  },
  {
   "cell_type": "markdown",
   "id": "542f6360",
   "metadata": {},
   "source": [
    "In an SQL query, the clauses are typically executed in the following order:\n",
    "\n",
    "SELECT: The SELECT clause specifies which columns to retrieve from the database.\n",
    "\n",
    "FROM: The FROM clause specifies the table or tables from which to retrieve the data.\n",
    "\n",
    "WHERE: The WHERE clause filters the data based on a specified condition.\n",
    "\n",
    "GROUP BY: The GROUP BY clause groups the data by one or more columns.\n",
    "\n",
    "HAVING: The HAVING clause filters the grouped data based on a condition.\n",
    "\n",
    "ORDER BY: The ORDER BY clause sorts the result set based on specified columns.\n",
    "\n",
    "LIMIT/OFFSET: The LIMIT (and optionally OFFSET) clause restricts the number of rows returned in the result set."
   ]
  },
  {
   "cell_type": "code",
   "execution_count": null,
   "id": "d051828a",
   "metadata": {},
   "outputs": [],
   "source": []
  }
 ],
 "metadata": {
  "kernelspec": {
   "display_name": "Python 3 (ipykernel)",
   "language": "python",
   "name": "python3"
  },
  "language_info": {
   "codemirror_mode": {
    "name": "ipython",
    "version": 3
   },
   "file_extension": ".py",
   "mimetype": "text/x-python",
   "name": "python",
   "nbconvert_exporter": "python",
   "pygments_lexer": "ipython3",
   "version": "3.11.4"
  }
 },
 "nbformat": 4,
 "nbformat_minor": 5
}
